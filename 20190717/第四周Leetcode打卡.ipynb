{
 "cells": [
  {
   "cell_type": "markdown",
   "metadata": {},
   "source": [
    "# 树"
   ]
  },
  {
   "cell_type": "markdown",
   "metadata": {},
   "source": [
    "## 110. 平衡二叉树"
   ]
  },
  {
   "cell_type": "markdown",
   "metadata": {
    "ExecuteTime": {
     "end_time": "2019-07-18T13:24:01.728749Z",
     "start_time": "2019-07-18T13:24:01.722753Z"
    }
   },
   "source": [
    "给定一个二叉树，判断它是否是高度平衡的二叉树。  \n",
    "本题中，一棵高度平衡二叉树定义为：  \n",
    "一个二叉树每个节点 的左右两个子树的高度差的绝对值不超过1。  "
   ]
  },
  {
   "cell_type": "markdown",
   "metadata": {},
   "source": [
    "示例 1:   \n",
    "给定二叉树 [3,9,20,null,null,15,7]  \n",
    "返回 true\n",
    "示例 2:  \n",
    "给定二叉树 [1,2,2,3,3,null,null,4,4]  \n",
    "返回 false  "
   ]
  },
  {
   "cell_type": "markdown",
   "metadata": {},
   "source": [
    "## 513. 找树左下角的值"
   ]
  },
  {
   "cell_type": "markdown",
   "metadata": {},
   "source": [
    "给定一个二叉树，在树的最后一行找到最左边的值。  \n",
    "注意: 您可以假设树（即给定的根节点）不为 NULL。"
   ]
  },
  {
   "cell_type": "markdown",
   "metadata": {},
   "source": [
    "## 144. 二叉树的前序遍历"
   ]
  },
  {
   "cell_type": "markdown",
   "metadata": {},
   "source": [
    "给定一个二叉树，返回它的 前序 遍历。  \n",
    "输入: [1,null,2,3]   \n",
    "输出: [1,2,3]"
   ]
  },
  {
   "cell_type": "markdown",
   "metadata": {},
   "source": [
    "## 230.二叉搜索树中第K小的元素"
   ]
  },
  {
   "cell_type": "markdown",
   "metadata": {},
   "source": [
    "给定一个二叉搜索树，编写一个函数 kthSmallest 来查找其中第 k 个最小的元素。  \n",
    "说明：  \n",
    "你可以假设 k 总是有效的，1 ≤ k ≤ 二叉搜索树元素个数。  \n",
    "示例 1:  \n",
    "输入: root = [3,1,4,null,2], k = 1  \n",
    "输出: 1  \n",
    "示例 2:  \n",
    "输入: root = [5,3,6,2,4,null,null,1], k = 3  \n",
    "输出: 3  \n",
    "进阶：\n",
    "如果二叉搜索树经常被修改（插入/删除操作）并且你需要频繁地查找第 k 小的值，你将如何优化 kthSmallest 函数？  "
   ]
  },
  {
   "cell_type": "markdown",
   "metadata": {},
   "source": [
    "## 208. 实现 Trie (前缀树)"
   ]
  },
  {
   "cell_type": "markdown",
   "metadata": {},
   "source": [
    "实现一个 Trie (前缀树)，包含 insert, search, 和 startsWith 这三个操作。\n",
    "\n",
    "示例:\n",
    "\n",
    "Trie trie = new Trie();\n",
    "\n",
    "trie.insert(\"apple\");\n",
    "trie.search(\"apple\");   // 返回 true\n",
    "trie.search(\"app\");     // 返回 false\n",
    "trie.startsWith(\"app\"); // 返回 true\n",
    "trie.insert(\"app\");   \n",
    "trie.search(\"app\");     // 返回 true\n",
    "说明:\n",
    "\n",
    "你可以假设所有的输入都是由小写字母 a-z 构成的。\n",
    "保证所有输入均为非空字符串。"
   ]
  },
  {
   "cell_type": "code",
   "execution_count": null,
   "metadata": {
    "ExecuteTime": {
     "start_time": "2019-07-18T15:55:14.561Z"
    }
   },
   "outputs": [],
   "source": [
    "class TrieNode():\n",
    "    def __init__(self):\n",
    "        self.nodes = [None] * 26\n",
    "        self.last = False\n",
    "class Trie(object):\n",
    "\n",
    "    def __init__(self):\n",
    "        \"\"\"\n",
    "        Initialize your data structure here.\n",
    "        \"\"\"\n",
    "        self.root = TrieNode()\n",
    "\n",
    "    def insert(self, word):\n",
    "        \"\"\"\n",
    "        Inserts a word into the trie.\n",
    "        :type word: str\n",
    "        :rtype: None\n",
    "        \"\"\"\n",
    "        tree = self.root\n",
    "        while (word):\n",
    "            temp = word[0]\n",
    "            word=word[1:]\n",
    "            if tree.nodes[ord(temp) - ord('a')]==None:\n",
    "                tree.nodes[ord(temp) - ord('a')] = TrieNode()\n",
    "            tree = tree.nodes[ord(temp) - ord('a')]\n",
    "        tree.last = True\n",
    "\n",
    "    def search(self, word):\n",
    "        \"\"\"\n",
    "        Returns if the word is in the trie.\n",
    "        :type word: str\n",
    "        :rtype: bool\n",
    "        \"\"\"\n",
    "        if word=='':\n",
    "            return True\n",
    "        tree=self.root\n",
    "        while(word):\n",
    "            temp = word[0]\n",
    "            word = word[1:]\n",
    "            if tree.nodes[ord(temp)-ord('a')]==None:\n",
    "                return False\n",
    "            tree=tree.nodes[ord(temp)-ord('a')]\n",
    "        return tree.last\n",
    "\n",
    "\n",
    "    def startsWith(self, prefix):\n",
    "        \"\"\"\n",
    "        Returns if there is any word in the trie that starts with the given prefix.\n",
    "        :type prefix: str\n",
    "        :rtype: bool\n",
    "        \"\"\"\n",
    "        tree=self.root\n",
    "        while(prefix):\n",
    "            temp=prefix[0]\n",
    "            prefix=prefix[1:]\n",
    "            if tree.nodes[ord(temp)-ord('a')]==None:\n",
    "                return False\n",
    "            tree=tree.nodes[ord(temp)-ord('a')]\n",
    "        return True"
   ]
  },
  {
   "cell_type": "code",
   "execution_count": null,
   "metadata": {
    "ExecuteTime": {
     "start_time": "2019-07-18T15:55:14.692Z"
    }
   },
   "outputs": [],
   "source": [
    "# Your Trie object will be instantiated and called as such:\n",
    "obj = Trie()\n",
    "word = \"apple\"\n",
    "obj.insert(word)\n",
    "param_1 = obj.search(word)\n",
    "param_2 = obj.startsWith(\"app\")\n",
    "print(param_1)\n",
    "print(param_2)"
   ]
  },
  {
   "cell_type": "markdown",
   "metadata": {},
   "source": [
    "# 图"
   ]
  },
  {
   "cell_type": "markdown",
   "metadata": {},
   "source": [
    "## 785 判断二分图"
   ]
  },
  {
   "cell_type": "markdown",
   "metadata": {},
   "source": [
    "给定一个无向图graph，当这个图为二分图时返回true。\n",
    "\n",
    "如果我们能将一个图的节点集合分割成两个独立的子集A和B，并使图中的每一条边的两个节点一个来自A集合，一个来自B集合，我们就将这个图称为二分图。\n",
    "\n",
    "graph将会以邻接表方式给出，graph[i]表示图中与节点i相连的所有节点。每个节点都是一个在0到graph.length-1之间的整数。这图中没有自环和平行边： graph[i] 中不存在i，并且graph[i]中没有重复的值。\n",
    "\n",
    "示例 1:  \n",
    "输入: [[1,3], [0,2], [1,3], [0,2]]  \n",
    "输出: true  \n",
    "我们可以将节点分成两组: {0, 2} 和 {1, 3}  \n",
    "示例 2:  \n",
    "输入: [[1,2,3], [0,2], [0,1,3], [0,2]]  \n",
    "输出: false  \n",
    "我们不能将节点分割成两个独立的子集。  \n",
    "\n",
    "注意:\n",
    "\n",
    "graph 的长度范围为 [1, 100]。  \n",
    "graph[i] 中的元素的范围为 [0, graph.length - 1]。 \n",
    "graph[i] 不会包含 i 或者有重复的值。  \n",
    "图是无向的: 如果j 在 graph[i]里边, 那么 i 也会在 graph[j]里边。  "
   ]
  },
  {
   "cell_type": "code",
   "execution_count": null,
   "metadata": {
    "ExecuteTime": {
     "start_time": "2019-07-18T15:55:15.275Z"
    }
   },
   "outputs": [],
   "source": [
    "class Solution:\n",
    "    def isBipartite(self, graph):\n",
    "        n = len(graph)\n",
    "        colors = [0] * n\n",
    "        # 0 未被染色的 1 是红色 -1 是蓝色\n",
    "        def dfs(i,color):\n",
    "            if colors[i] != 0:\n",
    "                return colors[i] == color\n",
    "            colors[i] = color\n",
    "            for j in graph[i]:\n",
    "                if not dfs(j,-color):\n",
    "                    return False\n",
    "            return True\n",
    "        for  i in range(n):\n",
    "            if colors[i] == 0 and not dfs(i,1):\n",
    "                return False\n",
    "        return True"
   ]
  },
  {
   "cell_type": "code",
   "execution_count": null,
   "metadata": {
    "ExecuteTime": {
     "start_time": "2019-07-18T15:55:15.366Z"
    }
   },
   "outputs": [],
   "source": [
    "s =Solution()\n",
    "list1 = [[1,3], [0,2], [1,3], [0,2]]\n",
    "result1 = s.isBipartite(list1)\n",
    "print(result1)\n",
    "list2 = [[1,2,3], [0,2], [0,1,3], [0,2]]\n",
    "result2 = s.isBipartite(list2)\n",
    "print(result2)"
   ]
  },
  {
   "cell_type": "markdown",
   "metadata": {},
   "source": [
    "## 207. 课程表"
   ]
  },
  {
   "cell_type": "markdown",
   "metadata": {},
   "source": [
    "现在你总共有 n 门课需要选，记为 0 到 n-1。\n",
    "\n",
    "在选修某些课程之前需要一些先修课程。 例如，想要学习课程 0 ，你需要先完成课程 1 ，我们用一个匹配来表示他们: [0,1]\n",
    "\n",
    "给定课程总量以及它们的先决条件，判断是否可能完成所有课程的学习？\n",
    "\n",
    "示例 1:  \n",
    "输入: 2, [[1,0]]   \n",
    "输出: true  \n",
    "解释: 总共有 2 门课程。学习课程 1 之前，你需要完成课程 0。所以这是可能的。   \n",
    "\n",
    "示例 2:  \n",
    "输入: 2, [[1,0],[0,1]]  \n",
    "输出: false  \n",
    "解释: 总共有 2 门课程。学习课程 1 之前，你需要先完成​课程 0；并且学习课程 0 之前，你还应先完成课程 1。这是不可能的。  \n",
    "\n",
    "说明:  \n",
    "输入的先决条件是由边缘列表表示的图形，而不是邻接矩阵。详情请参见图的表示法。  \n",
    "你可以假定输入的先决条件中没有重复的边。  \n",
    "\n",
    "提示:  \n",
    "这个问题相当于查找一个循环是否存在于有向图中。如果存在循环，则不存在拓扑排序，因此不可能选取所有课程进行学习。  \n",
    "通过 DFS 进行拓扑排序 - 一个关于Coursera的精彩视频教程（21分钟），介绍拓扑排序的基本概念。  \n",
    "拓扑排序也可以通过 BFS 完成。\n"
   ]
  },
  {
   "cell_type": "code",
   "execution_count": null,
   "metadata": {
    "ExecuteTime": {
     "start_time": "2019-07-18T15:55:15.856Z"
    }
   },
   "outputs": [],
   "source": [
    "class Solution(object):\n",
    "    def canFinish(self, numCourses, prerequisites):\n",
    "        graph = [[] for _ in range(numCourses)]\n",
    "        finished = [0 for _ in range(numCourses)]\n",
    "        # 创建图的邻接表形式\n",
    "        [graph[pair[0]].append(pair[1]) for pair in prerequisites]\n",
    "        # 访问每个结点,只要有一个不能完成，则整体不能完成\n",
    "        if min([self.dfs(graph,finished,i) for i in range(numCourses)]) == 0:\n",
    "            return False\n",
    "        return True\n",
    "    def dfs(self, graph, finished, i):\n",
    "        if finished[i] != 0:\n",
    "            return finished[i]==1  \n",
    "        # 标记当前结点正在访问\n",
    "        finished[i] = -1\n",
    "        # 访问所有依赖的课程结点\n",
    "        for j in graph[i]:\n",
    "            if not self.dfs(graph, finished, j):\n",
    "                return False\n",
    "        # 如果能到这一步，说明所有依赖的课程都能完成\n",
    "        finished[i] = 1\n",
    "        return True"
   ]
  },
  {
   "cell_type": "code",
   "execution_count": null,
   "metadata": {
    "ExecuteTime": {
     "start_time": "2019-07-18T15:55:15.948Z"
    }
   },
   "outputs": [],
   "source": [
    "s =Solution() \n",
    "numCourses1 =  2 \n",
    "prerequisites1 = [[1,0]]\n",
    "result1 =  s.canFinish(numCourses1,prerequisites1)\n",
    "print(result1)\n",
    "numCourses2 =  2 \n",
    "prerequisites2 = [[1,0],[0,1]]\n",
    "result2 =  s.canFinish(numCourses2,prerequisites2)\n",
    "print(result2)"
   ]
  },
  {
   "cell_type": "markdown",
   "metadata": {},
   "source": [
    "## 684. 冗余连接"
   ]
  },
  {
   "cell_type": "markdown",
   "metadata": {},
   "source": [
    "在本问题中, 树指的是一个连通且无环的无向图。\n",
    "\n",
    "输入一个图，该图由一个有着N个节点 (节点值不重复1, 2, ..., N) 的树及一条附加的边构成。附加的边的两个顶点包含在1到N中间，这条附加的边不属于树中已存在的边。\n",
    "\n",
    "结果图是一个以边组成的二维数组。每一个边的元素是一对[u, v] ，满足 u < v，表示连接顶点u 和v的无向图的边。\n",
    "\n",
    "返回一条可以删去的边，使得结果图是一个有着N个节点的树。如果有多个答案，则返回二维数组中最后出现的边。答案边 [u, v] 应满足相同的格式 u < v。\n",
    "\n",
    "示例 1：  \n",
    "输入: [[1,2], [1,3], [2,3]]  \n",
    "输出: [2,3]\n",
    "\n",
    "示例 2：  \n",
    "输入: [[1,2], [2,3], [3,4], [1,4], [1,5]]  \n",
    "输出: [1,4]  \n",
    "\n",
    "注意:  \n",
    "输入的二维数组大小在 3 到 1000。  \n",
    "二维数组中的整数在1到N之间，其中N是输入数组的大小。  \n",
    "更新(2017-09-26):  \n",
    "我们已经重新检查了问题描述及测试用例，明确图是无向 图。对于有向图详见冗余连接II。对于造成任何不便，我们深感歉意。"
   ]
  },
  {
   "cell_type": "code",
   "execution_count": null,
   "metadata": {
    "ExecuteTime": {
     "start_time": "2019-07-18T15:55:16.457Z"
    }
   },
   "outputs": [],
   "source": [
    "class Solution(object):\n",
    "    def findRedundantConnection(self, edges):\n",
    "        \"\"\"\n",
    "        :type edges: List[List[int]]\n",
    "        :rtype: List[int]\n",
    "        \"\"\"\n",
    "        rec = {}\n",
    "        for (start, end) in edges:\n",
    "            if start in rec and end in rec:\n",
    "                p1, p2 = start, end\n",
    "                while rec[p1] is not None:\n",
    "                    p1 = rec[p1]\n",
    "                while rec[p2] is not None:\n",
    "                    p2 = rec[p2]\n",
    "                if p1 == p2:\n",
    "                    return [start, end]\n",
    "                rec[p1] = p2\n",
    "\n",
    "            if start not in rec:\n",
    "                rec[start] = None\n",
    "            if end not in rec:\n",
    "                rec[end] = start\n",
    "            else:\n",
    "                p2 = end\n",
    "                while rec[p2] is not None:\n",
    "                    p2 = rec[p2]\n",
    "                rec[start] = p2"
   ]
  },
  {
   "cell_type": "code",
   "execution_count": null,
   "metadata": {
    "ExecuteTime": {
     "start_time": "2019-07-18T15:55:16.567Z"
    }
   },
   "outputs": [],
   "source": [
    "s = Solution()\n",
    "edges1 = [[1, 2], [1, 3], [2, 3]]\n",
    "result1 = s.findRedundantConnection(edges1)\n",
    "print(result1)\n",
    "edges2 = [[1, 2], [2, 3], [3, 4], [1, 4], [1, 5]]\n",
    "result2 = s.findRedundantConnection(edges2)\n",
    "print(result2)"
   ]
  },
  {
   "cell_type": "code",
   "execution_count": null,
   "metadata": {},
   "outputs": [],
   "source": []
  }
 ],
 "metadata": {
  "hide_input": false,
  "kernelspec": {
   "display_name": "Python 3",
   "language": "python",
   "name": "python3"
  },
  "language_info": {
   "codemirror_mode": {
    "name": "ipython",
    "version": 3
   },
   "file_extension": ".py",
   "mimetype": "text/x-python",
   "name": "python",
   "nbconvert_exporter": "python",
   "pygments_lexer": "ipython3",
   "version": "3.7.3"
  },
  "latex_envs": {
   "LaTeX_envs_menu_present": true,
   "autoclose": false,
   "autocomplete": true,
   "bibliofile": "biblio.bib",
   "cite_by": "apalike",
   "current_citInitial": 1,
   "eqLabelWithNumbers": true,
   "eqNumInitial": 1,
   "hotkeys": {
    "equation": "Ctrl-E",
    "itemize": "Ctrl-I"
   },
   "labels_anchors": false,
   "latex_user_defs": false,
   "report_style_numbering": false,
   "user_envs_cfg": false
  },
  "nbTranslate": {
   "displayLangs": [
    "*"
   ],
   "hotkey": "alt-t",
   "langInMainMenu": true,
   "sourceLang": "en",
   "targetLang": "fr",
   "useGoogleTranslate": true
  },
  "toc": {
   "base_numbering": 1,
   "nav_menu": {},
   "number_sections": true,
   "sideBar": true,
   "skip_h1_title": false,
   "title_cell": "Table of Contents",
   "title_sidebar": "Contents",
   "toc_cell": false,
   "toc_position": {},
   "toc_section_display": true,
   "toc_window_display": false
  },
  "varInspector": {
   "cols": {
    "lenName": 16,
    "lenType": 16,
    "lenVar": 40
   },
   "kernels_config": {
    "python": {
     "delete_cmd_postfix": "",
     "delete_cmd_prefix": "del ",
     "library": "var_list.py",
     "varRefreshCmd": "print(var_dic_list())"
    },
    "r": {
     "delete_cmd_postfix": ") ",
     "delete_cmd_prefix": "rm(",
     "library": "var_list.r",
     "varRefreshCmd": "cat(var_dic_list()) "
    }
   },
   "types_to_exclude": [
    "module",
    "function",
    "builtin_function_or_method",
    "instance",
    "_Feature"
   ],
   "window_display": false
  }
 },
 "nbformat": 4,
 "nbformat_minor": 2
}
