{
 "cells": [
  {
   "cell_type": "markdown",
   "metadata": {},
   "source": [
    "## 69. x 的平方根"
   ]
  },
  {
   "cell_type": "markdown",
   "metadata": {},
   "source": [
    "计算并返回x的平方根，其中x 是非负整数。\n",
    "\n",
    "由于返回类型是整数，结果只保留整数的部分，小数部分将被舍去。\n",
    "\n",
    "示例 1:  \n",
    "输入: 4  \n",
    "输出: 2  \n",
    "\n",
    "示例 2:  \n",
    "输入: 8  \n",
    "输出: 2  \n",
    "说明: 8 的平方根是 2.82842...,由于返回类型是整数，小数部分将被舍去。"
   ]
  },
  {
   "cell_type": "markdown",
   "metadata": {},
   "source": [
    "Python3，二分查找法，时间复杂度o(logn)。查找区间左闭右开，即[m, n)，所以二分查找之前，右端点的值＋1，同时，循环的条件使用严格的小于，而不是≤。\n",
    "\n",
    "使用左闭右开带来的好处是，当查找区间为∅，跳出while循环时，左右端点相同，所以不需要思考使用左端点还是右端点。\n",
    "\n",
    "如果while里的if判断使用了＞号，则找到了（上界+1）的数值；如果if判断使用了≥号，则找到了下界的数值。"
   ]
  },
  {
   "cell_type": "code",
   "execution_count": 1,
   "metadata": {
    "ExecuteTime": {
     "end_time": "2019-07-03T14:34:33.929663Z",
     "start_time": "2019-07-03T14:34:33.914016Z"
    }
   },
   "outputs": [
    {
     "name": "stdout",
     "output_type": "stream",
     "text": [
      "2\n",
      "2\n"
     ]
    }
   ],
   "source": [
    "class Solution:\n",
    "    def mySqrt(self, x: int) -> int:\n",
    "        l=0\n",
    "        r=x+1\n",
    "        while l<r:\n",
    "            mid=l+(r-l)//2\n",
    "            if mid*mid>x:\n",
    "                r=mid\n",
    "            else:\n",
    "                l=mid+1\n",
    "        return l-1\n",
    "s = Solution()\n",
    "result1=s.mySqrt(4)\n",
    "print(result1)\n",
    "result2 = s.mySqrt(8)\n",
    "print(result2)"
   ]
  },
  {
   "cell_type": "markdown",
   "metadata": {},
   "source": [
    "## 241. 为运算表达式设计优先级"
   ]
  },
  {
   "cell_type": "markdown",
   "metadata": {},
   "source": [
    "给定一个含有数字和运算符的字符串，为表达式添加括号，改变其运算优先级以求出不同的结果。你需要给出所有可能的组合的结果。有效的运算符号包含 +, - 以及 * 。\n",
    "\n",
    "示例 1:  \n",
    "输入: \"2-1-1\"   \n",
    "输出: [0, 2]  \n",
    "解释:   \n",
    "((2-1)-1) = 0   \n",
    "(2-(1-1)) = 2  \n",
    "示例 2:  \n",
    "输入: \"2*3-4*5\"  \n",
    "输出: [-34, -14, -10, -10, 10]  \n",
    "解释:   \n",
    "(2*(3-(4*5))) = -34   \n",
    "((2*3)-(4*5)) = -14   \n",
    "((2*(3-4))*5) = -10   \n",
    "(2*((3-4)*5)) = -10   \n",
    "(((2*3)-4)*5) = 10  \n"
   ]
  },
  {
   "cell_type": "markdown",
   "metadata": {},
   "source": [
    "相当于是根据所给式子构造运算二叉树的问题，  \n",
    "所以每次遍历其中的每个运算符作为根结点，  \n",
    "该运算符前后的内容分别递归得到左右子树可能的构造，每种左右子树组合得到一种构造结果\n"
   ]
  },
  {
   "cell_type": "code",
   "execution_count": 2,
   "metadata": {
    "ExecuteTime": {
     "end_time": "2019-07-03T14:34:34.110609Z",
     "start_time": "2019-07-03T14:34:33.933660Z"
    }
   },
   "outputs": [
    {
     "name": "stdout",
     "output_type": "stream",
     "text": [
      "[2, 0]\n",
      "[-34, -10, -14, -10, 10]\n"
     ]
    }
   ],
   "source": [
    "class Solution:\n",
    "    def diffWaysToCompute(self, input):\n",
    "        res = []\n",
    "        ops = {'+': lambda x, y: x+y, '-': lambda x,\n",
    "               y: x-y, '*': lambda x, y: x*y}\n",
    "        for indx in range(1, len(input)-1):\n",
    "            if input[indx] in ops.keys():\n",
    "\n",
    "                for left in self.diffWaysToCompute(input[:indx]):\n",
    "                    for right in self.diffWaysToCompute(input[indx+1:]):\n",
    "                        res.append(ops[input[indx]](left, right))\n",
    "        if not res:\n",
    "            res.append(int(input))\n",
    "\n",
    "        return res\n",
    "\n",
    "\n",
    "s = Solution()\n",
    "result1 = s.diffWaysToCompute('2-1-1')\n",
    "print(result1)\n",
    "result2 = s.diffWaysToCompute(\"2*3-4*5\")\n",
    "print(result2)"
   ]
  },
  {
   "cell_type": "markdown",
   "metadata": {},
   "source": [
    "## 160. 相交链表"
   ]
  },
  {
   "cell_type": "markdown",
   "metadata": {},
   "source": [
    "编写一个程序，找到两个单链表相交的起始节点。\n",
    "\n",
    "如下面的两个链表：\n",
    "\n",
    "<img src=\"160_statement.png\" />\n",
    "\n",
    "在节点 c1 开始相交。\n",
    "\n",
    "示例 1：  \n",
    "\n",
    "\n",
    "<img src=\"https://assets.leetcode.com/uploads/2018/12/13/160_example_1.png\" />  \n",
    "输入：intersectVal = 8, listA = [4,1,8,4,5], listB = [5,0,1,8,4,5], skipA = 2,   skipB = 3  \n",
    "输出：Reference of the node with value = 8  \n",
    "输入解释：相交节点的值为 8 （注意，如果两个列表相交则不能为 0）。从各自的表头开始算起，链表 A 为 [4,1,8,4,5]，链表 B 为 [5,0,1,8,4,5]。在 A 中，相交节点前有 2 个节点；在 B 中，相交节点前有 3 个节点。\n",
    " \n",
    "\n",
    "示例 2：  \n",
    "\n",
    "<img src=\"https://assets.leetcode.com/uploads/2018/12/13/160_example_2.png\" />  \n",
    "\n",
    "输入：intersectVal = 2, listA = [0,9,1,2,4], listB = [3,2,4], skipA = 3, skipB = 1  \n",
    "输出：Reference of the node with value = 2  \n",
    "输入解释：相交节点的值为 2 （注意，如果两个列表相交则不能为 0）。从各自的表头开始算起，链表 A 为 [0,9,1,2,4]，链表 B 为 [3,2,4]。在 A 中，相交节点前有 3 个节点；在 B 中，相交节点前有 1 个节点。\n",
    " \n",
    "\n",
    "示例 3：\n",
    "\n",
    "<img src=\"https://assets.leetcode.com/uploads/2018/12/13/160_example_3.png\" />  \n",
    "\n",
    "输入：intersectVal = 0, listA = [2,6,4], listB = [1,5], skipA = 3, skipB = 2  \n",
    "输出：null  \n",
    "输入解释：从各自的表头开始算起，链表 A 为 [2,6,4]，链表 B 为 [1,5]。由于这两个链表不相交，所以 intersectVal 必须为 0，而 skipA 和 skipB 可以是任意值。\n",
    "解释：这两个链表不相交，因此返回 null。\n",
    "\n",
    "注意：\n",
    "\n",
    "如果两个链表没有交点，返回 null.  \n",
    "在返回结果后，两个链表仍须保持原有的结构。   \n",
    "可假定整个链表结构中没有循环。  \n",
    "程序尽量满足 O(n) 时间复杂度，且仅用 O(1) 内存。  \n"
   ]
  },
  {
   "cell_type": "markdown",
   "metadata": {},
   "source": [
    "思想：\n",
    "\n",
    "解法一:\n",
    "  第一遍循环，找出两个链表的长度差N  \n",
    "  第二遍循环，长链表先走N步，然后同时移动，判断是否有相同节点\n",
    "\n",
    "解法二:\n",
    "\n",
    "  链表到尾部后,跳到另一个链表的头部, 相遇点即为intersection points."
   ]
  },
  {
   "cell_type": "code",
   "execution_count": null,
   "metadata": {},
   "outputs": [],
   "source": [
    "class Solution(object):\n",
    "    def getIntersectionNode(self, headA, headB):\n",
    "        \"\"\"\n",
    "        :type head1, head1: ListNode\n",
    "        :rtype: ListNode\n",
    "        \"\"\"\n",
    "        a, b = (headA, headB) if headA and headB else (None, None)\n",
    "        while a != b: a, b = not a and headB or a.next, not b and headA or b.next\n",
    "        return a\n",
    "    \n",
    "    \n",
    "s = Solution()\n",
    "intersectVal = 8\n",
    "listA = [4,1,8,4,5]\n",
    "listB = [5,0,1,8,4,5]\n",
    "skipA = 2\n",
    "skipB = 3\n",
    "\n",
    "result = s.getIntersectionNode(listA,listB)\n",
    "print(result)"
   ]
  },
  {
   "cell_type": "markdown",
   "metadata": {},
   "source": [
    "## 1. 两数之和"
   ]
  },
  {
   "cell_type": "markdown",
   "metadata": {},
   "source": [
    "给定一个整数数组 nums 和一个目标值 target，请你在该数组中找出和为目标值的那 两个 整数，并返回他们的数组下标。\n",
    "\n",
    "你可以假设每种输入只会对应一个答案。但是，你不能重复利用这个数组中同样的元素。\n",
    "\n",
    "示例:\n",
    "给定 nums = [2, 7, 11, 15], target = 9  \n",
    "因为 nums[0] + nums[1] = 2 + 7 = 9  \n",
    "所以返回 [0, 1]"
   ]
  },
  {
   "cell_type": "code",
   "execution_count": 3,
   "metadata": {
    "ExecuteTime": {
     "end_time": "2019-07-03T14:34:34.233580Z",
     "start_time": "2019-07-03T14:34:34.114607Z"
    }
   },
   "outputs": [
    {
     "name": "stdout",
     "output_type": "stream",
     "text": [
      "9\n"
     ]
    }
   ],
   "source": [
    "class Solution(object):\n",
    "    def twoSum(self, nums, target):\n",
    "        \"\"\"\n",
    "        :type nums: List[int]\n",
    "        :type target: int\n",
    "        :rtype: List[int]\n",
    "        \"\"\"\n",
    "        hashmap = {}\n",
    "        for index, num in enumerate(nums):\n",
    "            another_num = target - num\n",
    "            if another_num in hashmap:\n",
    "                return [hashmap[another_num], index]\n",
    "            hashmap[num] = index\n",
    "        return None\n",
    "\n",
    "\n",
    "s = Solution()\n",
    "nums = [2, 7, 11, 15]\n",
    "target = 9\n",
    "result = s.twoSum(nums, target)\n",
    "print(target)"
   ]
  },
  {
   "cell_type": "markdown",
   "metadata": {},
   "source": [
    "## 242. 有效的字母异位词"
   ]
  },
  {
   "cell_type": "markdown",
   "metadata": {},
   "source": [
    "给定两个字符串 s 和 t ，编写一个函数来判断 t 是否是 s 的字母异位词。\n",
    "\n",
    "示例 1:  \n",
    "输入: s = \"anagram\", t = \"nagaram\"  \n",
    "输出: true  \n",
    "\n",
    "示例 2:  \n",
    "输入: s = \"rat\", t = \"car\"  \n",
    "输出: false  \n",
    "说明:  \n",
    "你可以假设字符串只包含小写字母。\n"
   ]
  },
  {
   "cell_type": "code",
   "execution_count": 4,
   "metadata": {
    "ExecuteTime": {
     "end_time": "2019-07-03T14:34:34.317851Z",
     "start_time": "2019-07-03T14:34:34.237578Z"
    }
   },
   "outputs": [
    {
     "name": "stdout",
     "output_type": "stream",
     "text": [
      "True\n",
      "False\n"
     ]
    }
   ],
   "source": [
    "class Solution(object):\n",
    "    def isAnagram(self, s, t):\n",
    "        \"\"\"\n",
    "        :type s: str\n",
    "        :type t: str\n",
    "        :rtype: bool\n",
    "        \"\"\"\n",
    "        return sorted(s)==sorted(t)\n",
    "    \n",
    "sol = Solution()\n",
    "s = \"anagram\"\n",
    "t = \"nagaram\"\n",
    "result1 = sol.isAnagram(s,t)\n",
    "print(result1)\n",
    "s = \"rat\"\n",
    "t = \"car\"\n",
    "result2 = sol.isAnagram(s,t)\n",
    "print(result2)"
   ]
  },
  {
   "cell_type": "markdown",
   "metadata": {},
   "source": [
    "## 232. 用栈实现队列"
   ]
  },
  {
   "cell_type": "markdown",
   "metadata": {},
   "source": [
    "使用栈实现队列的下列操作：\n",
    "\n",
    "push(x) -- 将一个元素放入队列的尾部。  \n",
    "pop() -- 从队列首部移除元素。  \n",
    "peek() -- 返回队列首部的元素。  \n",
    "empty() -- 返回队列是否为空。   \n",
    "示例:  \n",
    "\n",
    "MyQueue queue = new MyQueue();  \n",
    "\n",
    "queue.push(1);  \n",
    "queue.push(2);  \n",
    "queue.peek();  // 返回 1  \n",
    "queue.pop();   // 返回 1  \n",
    "queue.empty(); // 返回 false  \n",
    "说明:\n",
    "\n",
    "你只能使用标准的栈操作 -- 也就是只有 push to top, peek/pop from top, size, 和 is empty 操作是合法的。  \n",
    "你所使用的语言也许不支持栈。你可以使用 list 或者 deque（双端队列）来模拟一个栈，只要是标准的栈操作即可。  \n",
    "假设所有操作都是有效的 （例如，一个空的队列不会调用 pop 或者 peek 操作）。\n"
   ]
  },
  {
   "cell_type": "code",
   "execution_count": 5,
   "metadata": {
    "ExecuteTime": {
     "end_time": "2019-07-03T14:34:34.407794Z",
     "start_time": "2019-07-03T14:34:34.320847Z"
    },
    "code_folding": []
   },
   "outputs": [
    {
     "name": "stdout",
     "output_type": "stream",
     "text": [
      "1\n",
      "2\n",
      "False\n"
     ]
    }
   ],
   "source": [
    "class MyQueue(object):\n",
    "\n",
    "    def __init__(self):\n",
    "        \"\"\"\n",
    "        Initialize your data structure here.\n",
    "        \"\"\"\n",
    "        self.instack = []\n",
    "        self.outstack = []\n",
    "\n",
    "    def push(self, x):\n",
    "        \"\"\"\n",
    "        Push element x to the back of queue.\n",
    "        :type x: int\n",
    "        :rtype: None\n",
    "        \"\"\"\n",
    "        self.instack.append(x)\n",
    "\n",
    "    def pop(self):\n",
    "        \"\"\"\n",
    "        Removes the element from in front of queue and returns that element.\n",
    "        :rtype: int\n",
    "        \"\"\"\n",
    "        if len(self.outstack) == 0:\n",
    "            while self.instack:\n",
    "                self.outstack.append(self.instack.pop())\n",
    "        return self.outstack.pop()\n",
    "\n",
    "    def peek(self):\n",
    "        \"\"\"\n",
    "        Get the front element.\n",
    "        :rtype: int\n",
    "        \"\"\"\n",
    "        if len(self.outstack) == 0:\n",
    "            while self.instack:\n",
    "                self.outstack.append(self.instack.pop())\n",
    "        return self.outstack[-1]\n",
    "    def empty(self):\n",
    "        \"\"\"\n",
    "        Returns whether the queue is empty.\n",
    "        :rtype: bool\n",
    "        \"\"\"\n",
    "        return len(self.instack) == 0 and len(self.outstack) == 0\n",
    "\n",
    "\n",
    "# Your MyQueue object will be instantiated and called as such:\n",
    "obj = MyQueue()\n",
    "obj.push(1)\n",
    "obj.push(2)\n",
    "param_2 = obj.pop()\n",
    "param_3 = obj.peek()\n",
    "param_4 = obj.empty() \n",
    "print(param_2)\n",
    "print(param_3)\n",
    "print(param_4)"
   ]
  },
  {
   "cell_type": "code",
   "execution_count": null,
   "metadata": {},
   "outputs": [],
   "source": []
  }
 ],
 "metadata": {
  "hide_input": false,
  "kernelspec": {
   "display_name": "Python 3",
   "language": "python",
   "name": "python3"
  },
  "language_info": {
   "codemirror_mode": {
    "name": "ipython",
    "version": 3
   },
   "file_extension": ".py",
   "mimetype": "text/x-python",
   "name": "python",
   "nbconvert_exporter": "python",
   "pygments_lexer": "ipython3",
   "version": "3.7.3"
  },
  "latex_envs": {
   "LaTeX_envs_menu_present": true,
   "autoclose": false,
   "autocomplete": true,
   "bibliofile": "biblio.bib",
   "cite_by": "apalike",
   "current_citInitial": 1,
   "eqLabelWithNumbers": true,
   "eqNumInitial": 1,
   "hotkeys": {
    "equation": "Ctrl-E",
    "itemize": "Ctrl-I"
   },
   "labels_anchors": false,
   "latex_user_defs": false,
   "report_style_numbering": false,
   "user_envs_cfg": false
  },
  "nbTranslate": {
   "displayLangs": [
    "*"
   ],
   "hotkey": "alt-t",
   "langInMainMenu": true,
   "sourceLang": "en",
   "targetLang": "fr",
   "useGoogleTranslate": true
  },
  "toc": {
   "base_numbering": 1,
   "nav_menu": {},
   "number_sections": true,
   "sideBar": true,
   "skip_h1_title": false,
   "title_cell": "Table of Contents",
   "title_sidebar": "Contents",
   "toc_cell": false,
   "toc_position": {},
   "toc_section_display": true,
   "toc_window_display": false
  },
  "varInspector": {
   "cols": {
    "lenName": 16,
    "lenType": 16,
    "lenVar": 40
   },
   "kernels_config": {
    "python": {
     "delete_cmd_postfix": "",
     "delete_cmd_prefix": "del ",
     "library": "var_list.py",
     "varRefreshCmd": "print(var_dic_list())"
    },
    "r": {
     "delete_cmd_postfix": ") ",
     "delete_cmd_prefix": "rm(",
     "library": "var_list.r",
     "varRefreshCmd": "cat(var_dic_list()) "
    }
   },
   "types_to_exclude": [
    "module",
    "function",
    "builtin_function_or_method",
    "instance",
    "_Feature"
   ],
   "window_display": false
  }
 },
 "nbformat": 4,
 "nbformat_minor": 2
}
