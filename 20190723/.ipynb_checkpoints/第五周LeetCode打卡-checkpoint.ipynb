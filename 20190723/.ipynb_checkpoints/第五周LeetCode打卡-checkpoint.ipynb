{
 "cells": [
  {
   "cell_type": "markdown",
   "metadata": {},
   "source": [
    "# 搜索"
   ]
  },
  {
   "cell_type": "markdown",
   "metadata": {},
   "source": [
    "## 二叉树的序列化与反序列化BFS（297）"
   ]
  },
  {
   "cell_type": "markdown",
   "metadata": {},
   "source": [
    "序列化是将一个数据结构或者对象转换为连续的比特位的操作，进而可以将转换后的数据存储在一个文件或者内存中，同时也可以通过网络传输到另一个计算机环境，采取相反方式重构得到原数据。\n",
    "\n",
    "请设计一个算法来实现二叉树的序列化与反序列化。这里不限定你的序列 / 反序列化算法执行逻辑，你只需要保证一个二叉树可以被序列化为一个字符串并且将这个字符串反序列化为原始的树结构。\n",
    "\n",
    "示例: \n",
    "\n",
    "序列化为 \"[1,2,3,null,null,4,5]\"  \n",
    "提示: 这与 LeetCode 目前使用的方式一致，详情请参阅 LeetCode 序列化二叉树的格式。你并非必须采取这种方式，你也可以采用其他的方法解决这个问题。\n",
    "\n",
    "说明: 不要使用类的成员 / 全局 / 静态变量来存储状态，你的序列化和反序列化算法应该是无状态的。"
   ]
  },
  {
   "cell_type": "code",
   "execution_count": 1,
   "metadata": {
    "ExecuteTime": {
     "end_time": "2019-07-25T08:06:49.074250Z",
     "start_time": "2019-07-25T08:06:49.059259Z"
    }
   },
   "outputs": [],
   "source": [
    "class Codec:\n",
    "    def serialize(self, root):\n",
    "        if root == None:\n",
    "            return '*!'\n",
    "        pre_str = ''\n",
    "        pre_str +=str(root.val)+'!'\n",
    "        pre_str +=self.serialize(root.left)\n",
    "        pre_str +=self.serialize(root.right)\n",
    "        return pre_str\n",
    "    def deserialize(self, data):\n",
    "        values = data.split('!')\n",
    "        return self.deserialize_pre_str(values)\n",
    "    \n",
    "    def deserialize_pre_str(self,values):\n",
    "        value = values.pop(0)\n",
    "        if value == '*':\n",
    "            return None\n",
    "        root = TreeNode(value)\n",
    "        root.left = self.deserialize_pre_str(values)\n",
    "        root.right = self.deserialize_pre_str(values)\n",
    "        return root"
   ]
  },
  {
   "cell_type": "markdown",
   "metadata": {},
   "source": [
    "## 岛屿的最大面积 DFS（695）"
   ]
  },
  {
   "cell_type": "markdown",
   "metadata": {},
   "source": [
    "给定一个包含了一些 0 和 1的非空二维数组 grid , 一个 岛屿 是由四个方向 (水平或垂直) 的 1 (代表土地) 构成的组合。你可以假设二维矩阵的四个边缘都被水包围着。\n",
    "\n",
    "找到给定的二维数组中最大的岛屿面积。(如果没有岛屿，则返回面积为0。)\n",
    "\n",
    "示例 1:\n",
    "\n",
    "[[0,0,1,0,0,0,0,1,0,0,0,0,0],  \n",
    " [0,0,0,0,0,0,0,1,1,1,0,0,0],  \n",
    " [0,1,1,0,1,0,0,0,0,0,0,0,0],  \n",
    " [0,1,0,0,1,1,0,0,1,0,1,0,0],  \n",
    " [0,1,0,0,1,1,0,0,1,1,1,0,0],  \n",
    " [0,0,0,0,0,0,0,0,0,0,1,0,0],  \n",
    " [0,0,0,0,0,0,0,1,1,1,0,0,0],  \n",
    " [0,0,0,0,0,0,0,1,1,0,0,0,0]]   \n",
    " \n",
    "对于上面这个给定矩阵应返回 6。注意答案不应该是11，因为岛屿只能包含水平或垂直的四个方向的‘1’。\n",
    "\n",
    "示例 2:\n",
    "\n",
    "[[0,0,0,0,0,0,0,0]]  \n",
    "对于上面这个给定的矩阵, 返回 0。  \n",
    "注意: 给定的矩阵grid 的长度和宽度都不超过 50。"
   ]
  },
  {
   "cell_type": "code",
   "execution_count": 2,
   "metadata": {
    "ExecuteTime": {
     "end_time": "2019-07-25T08:06:49.222159Z",
     "start_time": "2019-07-25T08:06:49.078246Z"
    }
   },
   "outputs": [],
   "source": [
    "class Solution(object):\n",
    "    def maxAreaOfIsland(self, grid):\n",
    "        max_area = 0\n",
    "        if len(grid) == 0 or len(grid[0]) == 0: return max_area\n",
    "        for i in range(len(grid)):\n",
    "            for j in range(len(grid[0])):\n",
    "                if grid[i][j] == 0: continue\n",
    "                tmp_area = 0\n",
    "                children = [\n",
    "                    (i, j),\n",
    "                ]\n",
    "                while children:\n",
    "                    r, c = children.pop()\n",
    "                    if grid[r][c] == 0: continue\n",
    "                    grid[r][c] = 0\n",
    "                    tmp_area += 1\n",
    "                    if r - 1 >= 0 and grid[r - 1][c]:\n",
    "                        children.append((r - 1, c))\n",
    "                    if r + 1 < len(grid) and grid[r + 1][c]:\n",
    "                        children.append((r + 1, c))\n",
    "                    if c - 1 >= 0 and grid[r][c - 1]:\n",
    "                        children.append((r, c - 1))\n",
    "                    if c + 1 < len(grid[0]) and grid[r][c + 1]:\n",
    "                        children.append((r, c + 1))\n",
    "                max_area = max(max_area, tmp_area)\n",
    "        return max_area"
   ]
  },
  {
   "cell_type": "code",
   "execution_count": 3,
   "metadata": {
    "ExecuteTime": {
     "end_time": "2019-07-25T08:06:49.343083Z",
     "start_time": "2019-07-25T08:06:49.225155Z"
    }
   },
   "outputs": [
    {
     "name": "stdout",
     "output_type": "stream",
     "text": [
      "6\n",
      "0\n"
     ]
    }
   ],
   "source": [
    "s = Solution()\n",
    "grid1 = [[0, 0, 1, 0, 0, 0, 0, 1, 0, 0, 0, 0, 0],\n",
    "        [0, 0, 0, 0, 0, 0, 0, 1, 1, 1, 0, 0, 0],\n",
    "        [0, 1, 1, 0, 1, 0, 0, 0, 0, 0, 0, 0, 0],\n",
    "        [0, 1, 0, 0, 1, 1, 0, 0, 1, 0, 1, 0, 0],\n",
    "        [0, 1, 0, 0, 1, 1, 0, 0, 1, 1, 1, 0, 0],\n",
    "        [0, 0, 0, 0, 0, 0, 0, 0, 0, 0, 1, 0, 0],\n",
    "        [0, 0, 0, 0, 0, 0, 0, 1, 1, 1, 0, 0, 0],\n",
    "        [0, 0, 0, 0, 0, 0, 0, 1, 1, 0, 0, 0, 0]]\n",
    "result1 = s.maxAreaOfIsland(grid1)\n",
    "print(result1)\n",
    "\n",
    "grid2 = [[0,0,0,0,0,0,0,0]]\n",
    "result2 = s.maxAreaOfIsland(grid2)\n",
    "print(result2)"
   ]
  },
  {
   "cell_type": "markdown",
   "metadata": {},
   "source": [
    "## 电话号码的字母组合Backtracking（17）"
   ]
  },
  {
   "cell_type": "markdown",
   "metadata": {},
   "source": [
    "给定一个仅包含数字 2-9 的字符串，返回所有它能表示的字母组合。  \n",
    "给出数字到字母的映射如下（与电话按键相同）。注意 1 不对应任何字母。  \n",
    "示例:  \n",
    "输入：\"23\"  \n",
    "输出：[\"ad\", \"ae\", \"af\", \"bd\", \"be\", \"bf\", \"cd\", \"ce\", \"cf\"].  \n",
    "说明:  \n",
    "尽管上面的答案是按字典序排列的，但是你可以任意选择答案输出的顺序。"
   ]
  },
  {
   "cell_type": "code",
   "execution_count": 4,
   "metadata": {
    "ExecuteTime": {
     "end_time": "2019-07-25T08:06:49.465010Z",
     "start_time": "2019-07-25T08:06:49.346081Z"
    }
   },
   "outputs": [],
   "source": [
    "class Solution:\n",
    "    def letterCombinations(self, digits):\n",
    "        KEY = {\n",
    "            '2': ['a', 'b', 'c'],\n",
    "            '3': ['d', 'e', 'f'],\n",
    "            '4': ['g', 'h', 'i'],\n",
    "            '5': ['j', 'k', 'l'],\n",
    "            '6': ['m', 'n', 'o'],\n",
    "            '7': ['p', 'q', 'r', 's'],\n",
    "            '8': ['t', 'u', 'v'],\n",
    "            '9': ['w', 'x', 'y', 'z']\n",
    "        }\n",
    "        if digits == '':\n",
    "            return []\n",
    "        ans = ['']\n",
    "        for num in digits:\n",
    "            ans = [pre + suf for pre in ans for suf in KEY[num]]\n",
    "        return ans"
   ]
  },
  {
   "cell_type": "code",
   "execution_count": 5,
   "metadata": {
    "ExecuteTime": {
     "end_time": "2019-07-25T08:06:49.584934Z",
     "start_time": "2019-07-25T08:06:49.468008Z"
    }
   },
   "outputs": [
    {
     "name": "stdout",
     "output_type": "stream",
     "text": [
      "['ad', 'ae', 'af', 'bd', 'be', 'bf', 'cd', 'ce', 'cf']\n"
     ]
    }
   ],
   "source": [
    "s = Solution()\n",
    "result = s.letterCombinations(\"23\")\n",
    "print(result)"
   ]
  },
  {
   "cell_type": "markdown",
   "metadata": {},
   "source": [
    "# 动态规划"
   ]
  },
  {
   "cell_type": "markdown",
   "metadata": {},
   "source": [
    "## 爬楼梯 - 斐波那契数列（70）"
   ]
  },
  {
   "cell_type": "markdown",
   "metadata": {},
   "source": [
    "假设你正在爬楼梯。需要 n 阶你才能到达楼顶。  \n",
    "每次你可以爬 1 或 2 个台阶。你有多少种不同的方法可以爬到楼顶呢？  \n",
    "注意：给定 n 是一个正整数。  \n",
    "示例 1：  \n",
    "输入： 2  \n",
    "输出： 2  \n",
    "解释： 有两种方法可以爬到楼顶。  \n",
    "1. 1 阶 + 1 阶  \n",
    "2. 2 阶  \n",
    "\n",
    "示例 2：  \n",
    "输入： 3  \n",
    "输出： 3  \n",
    "解释： 有三种方法可以爬到楼顶。  \n",
    "1. 1 阶 + 1 阶 + 1 阶\n",
    "2. 1 阶 + 2 阶\n",
    "3. 2 阶 + 1 阶"
   ]
  },
  {
   "cell_type": "code",
   "execution_count": 6,
   "metadata": {
    "ExecuteTime": {
     "end_time": "2019-07-25T08:06:49.682873Z",
     "start_time": "2019-07-25T08:06:49.588933Z"
    }
   },
   "outputs": [],
   "source": [
    "class Solution:\n",
    "    def climbStairs(self, n):\n",
    "        if n == 1 or n == 2:\n",
    "            return n\n",
    "        else:\n",
    "            a, b, count = 1, 2, 3\n",
    "            while count <= n:\n",
    "                a, b = b, a+b\n",
    "                count += 1\n",
    "        return b"
   ]
  },
  {
   "cell_type": "code",
   "execution_count": 7,
   "metadata": {
    "ExecuteTime": {
     "end_time": "2019-07-25T08:06:49.783812Z",
     "start_time": "2019-07-25T08:06:49.685872Z"
    }
   },
   "outputs": [
    {
     "name": "stdout",
     "output_type": "stream",
     "text": [
      "2\n",
      "3\n"
     ]
    }
   ],
   "source": [
    "s = Solution()\n",
    "result1 = s.climbStairs(2)\n",
    "print(result1)\n",
    "result2 = s.climbStairs(3)\n",
    "print(result2)"
   ]
  },
  {
   "cell_type": "markdown",
   "metadata": {},
   "source": [
    "## 最小路径和-矩阵路径（64）"
   ]
  },
  {
   "cell_type": "markdown",
   "metadata": {},
   "source": [
    "给定一个包含非负整数的 m x n 网格，请找出一条从左上角到右下角的路径，使得路径上的数字总和为最小。  \n",
    "说明：每次只能向下或者向右移动一步。  \n",
    "示例:  \n",
    "输入:  \n",
    "[[1,3,1],  \n",
    "  [1,5,1],  \n",
    "  [4,2,1]]  \n",
    "输出: 7  \n",
    "解释: 因为路径 1→3→1→1→1 的总和最小。  \n"
   ]
  },
  {
   "cell_type": "code",
   "execution_count": 8,
   "metadata": {
    "ExecuteTime": {
     "end_time": "2019-07-25T08:06:49.893744Z",
     "start_time": "2019-07-25T08:06:49.874756Z"
    }
   },
   "outputs": [],
   "source": [
    "class Solution:\n",
    "    def minPathSum(self, grid):\n",
    "        row = len(grid)\n",
    "        column = len(grid[0])\n",
    "        dp = [[0 for _ in range(column)] for p in range(row)]\n",
    "        for i in range(column):\n",
    "            dp[0][i] = dp[0][i-1] + grid[0][i]\n",
    "        for i in range(1, row, 1):\n",
    "            dp[i][0] = dp[i-1][0] + grid[i][0]\n",
    "            for j in range(1, column, 1):\n",
    "                dp[i][j] = min(dp[i-1][j], dp[i][j-1]) + grid[i][j]\n",
    "        return dp[row-1][column-1]"
   ]
  },
  {
   "cell_type": "code",
   "execution_count": 9,
   "metadata": {
    "ExecuteTime": {
     "end_time": "2019-07-25T08:06:50.016668Z",
     "start_time": "2019-07-25T08:06:49.970697Z"
    }
   },
   "outputs": [
    {
     "name": "stdout",
     "output_type": "stream",
     "text": [
      "7\n"
     ]
    }
   ],
   "source": [
    "s = Solution()\n",
    "grid = [[1, 3, 1], [1, 5, 1], [4, 2, 1]]\n",
    "result = s.minPathSum(grid)\n",
    "print(result)"
   ]
  },
  {
   "cell_type": "markdown",
   "metadata": {},
   "source": [
    "## 区域和检索 - 数组不可变-数组区间（303）"
   ]
  },
  {
   "cell_type": "markdown",
   "metadata": {},
   "source": [
    "给定一个整数数组  nums，求出数组从索引 i 到 j  (i ≤ j) 范围内元素的总和，包含 i,  j 两点。  \n",
    "示例：   \n",
    "给定 nums = [-2, 0, 3, -5, 2, -1]，求和函数为 sumRange()  \n",
    "sumRange(0, 2) -> 1  \n",
    "sumRange(2, 5) -> -1  \n",
    "sumRange(0, 5) -> -3  \n",
    "说明:  \n",
    "你可以假设数组不可变。  \n",
    "会多次调用 sumRange 方法。  "
   ]
  },
  {
   "cell_type": "code",
   "execution_count": 10,
   "metadata": {
    "ExecuteTime": {
     "end_time": "2019-07-25T08:06:50.398434Z",
     "start_time": "2019-07-25T08:06:50.391441Z"
    }
   },
   "outputs": [],
   "source": [
    "class NumArray(object):\n",
    "    def __init__(self, nums):\n",
    "        self.nums = [0] + nums\n",
    "        for i in range(1, len(self.nums)):\n",
    "            self.nums[i] = self.nums[i-1] + self.nums[i]\n",
    "\n",
    "    def sumRange(self, i, j):\n",
    "        return self.nums[j+1] - self.nums[i]"
   ]
  },
  {
   "cell_type": "code",
   "execution_count": 11,
   "metadata": {
    "ExecuteTime": {
     "end_time": "2019-07-25T08:06:50.515362Z",
     "start_time": "2019-07-25T08:06:50.428415Z"
    }
   },
   "outputs": [
    {
     "name": "stdout",
     "output_type": "stream",
     "text": [
      "1\n",
      "-1\n",
      "-3\n"
     ]
    }
   ],
   "source": [
    "nums = [-2, 0, 3, -5, 2, -1]\n",
    "n = NumArray(nums)\n",
    "result1 = n.sumRange(0, 2)\n",
    "print(result1)\n",
    "result2 = n.sumRange(2, 5)\n",
    "print(result2)\n",
    "result3 = n.sumRange(0, 5)\n",
    "print(result3)"
   ]
  },
  {
   "cell_type": "markdown",
   "metadata": {},
   "source": [
    "## 整数拆分-分割整数（343）"
   ]
  },
  {
   "cell_type": "markdown",
   "metadata": {},
   "source": [
    "给定一个正整数 n，将其拆分为至少两个正整数的和，并使这些整数的乘积最大化。 返回你可以获得的最大乘积。  \n",
    "示例 1:  \n",
    "输入: 2  \n",
    "输出: 1  \n",
    "解释: 2 = 1 + 1, 1 × 1 = 1。  \n",
    "示例 2:  \n",
    "输入: 10  \n",
    "输出: 36  \n",
    "解释: 10 = 3 + 3 + 4, 3 × 3 × 4 = 36。  \n",
    "说明: 你可以假设 n 不小于 2 且不大于 58。"
   ]
  },
  {
   "cell_type": "code",
   "execution_count": 14,
   "metadata": {
    "ExecuteTime": {
     "end_time": "2019-07-25T08:11:19.879579Z",
     "start_time": "2019-07-25T08:11:19.872584Z"
    }
   },
   "outputs": [],
   "source": [
    "class Solution(object):\n",
    "    def integerBreak(self, n):\n",
    "        if n<=3:\n",
    "            return n-1\n",
    "        dp = [x+1 for x in range(n)]\n",
    "        for i in range(3,n):\n",
    "            dp[i] = max(dp[i-2]*2,dp[i-3]*3)\n",
    "        return max(dp)"
   ]
  },
  {
   "cell_type": "code",
   "execution_count": 15,
   "metadata": {
    "ExecuteTime": {
     "end_time": "2019-07-25T08:11:20.483286Z",
     "start_time": "2019-07-25T08:11:20.477290Z"
    }
   },
   "outputs": [
    {
     "name": "stdout",
     "output_type": "stream",
     "text": [
      "1\n",
      "36\n"
     ]
    }
   ],
   "source": [
    "s = Solution()\n",
    "result1 = s.integerBreak(2)\n",
    "print(result1)\n",
    "result2 = s.integerBreak(10)\n",
    "print(result2)"
   ]
  },
  {
   "cell_type": "markdown",
   "metadata": {},
   "source": [
    "## 最长递增子序列（300）"
   ]
  },
  {
   "cell_type": "markdown",
   "metadata": {},
   "source": [
    "给定一个无序的整数数组，找到其中最长上升子序列的长度。  \n",
    "示例:   \n",
    "输入: [10,9,2,5,3,7,101,18]  \n",
    "输出: 4   \n",
    "解释: 最长的上升子序列是 [2,3,7,101]，它的长度是 4。  \n",
    "说明:  \n",
    "可能会有多种最长上升子序列的组合，你只需要输出对应的长度即可。  \n",
    "你算法的时间复杂度应该为 O(n2) 。  \n",
    "进阶: 你能将算法的时间复杂度降低到 O(n log n) 吗?  "
   ]
  },
  {
   "cell_type": "code",
   "execution_count": 16,
   "metadata": {
    "ExecuteTime": {
     "end_time": "2019-07-25T08:13:32.287433Z",
     "start_time": "2019-07-25T08:13:32.277439Z"
    }
   },
   "outputs": [],
   "source": [
    "class Solution(object):\n",
    "\n",
    "    # 动态规划的思路：将 dp 数组定义为：以 nums[i] 结尾的最长上升子序列的长度\n",
    "    # 那么题目要求的，就是这个 dp 数组中的最大者\n",
    "    # 以数组  [10, 9, 2, 5, 3, 7, 101, 18] 为例：\n",
    "    # dp 的值： 1  1  1  2  2  3  4    4\n",
    "\n",
    "    def lengthOfLIS(self, nums):\n",
    "        \"\"\"\n",
    "        :type nums: List[int]\n",
    "        :rtype: int\n",
    "        \"\"\"\n",
    "        size = len(nums)\n",
    "        if size <= 1:\n",
    "            return size\n",
    "        dp = [1] * size\n",
    "        for i in range(1, size):\n",
    "            for j in range(i):\n",
    "                if nums[i] > nums[j]:\n",
    "                    # + 1 的位置不要加错了\n",
    "                    dp[i] = max(dp[i], dp[j] + 1)\n",
    "        # 最后要全部走一遍，看最大值\n",
    "        return max(dp)"
   ]
  },
  {
   "cell_type": "code",
   "execution_count": 17,
   "metadata": {
    "ExecuteTime": {
     "end_time": "2019-07-25T08:14:34.186677Z",
     "start_time": "2019-07-25T08:14:34.179682Z"
    }
   },
   "outputs": [
    {
     "name": "stdout",
     "output_type": "stream",
     "text": [
      "4\n"
     ]
    }
   ],
   "source": [
    "nums =  [10,9,2,5,3,7,101,18]\n",
    "s = Solution()\n",
    "result = s.lengthOfLIS(nums)\n",
    "print(result)"
   ]
  },
  {
   "cell_type": "markdown",
   "metadata": {},
   "source": [
    "## 分割等和子集--0-1 背包（416）"
   ]
  },
  {
   "cell_type": "markdown",
   "metadata": {},
   "source": [
    "给定一个只包含正整数的非空数组。是否可以将这个数组分割成两个子集，使得两个子集的元素和相等。  \n",
    "注意:  \n",
    "每个数组中的元素不会超过 100  \n",
    "数组的大小不会超过 200  \n",
    "示例 1:  \n",
    "输入: [1, 5, 11, 5]  \n",
    "输出: true  \n",
    "解释: 数组可以分割成 [1, 5, 5] 和 [11].  \n",
    "示例 2:  \n",
    "输入: [1, 2, 3, 5]  \n",
    "输出: false  \n",
    "解释: 数组不能分割成两个元素和相等的子集."
   ]
  },
  {
   "cell_type": "code",
   "execution_count": 18,
   "metadata": {
    "ExecuteTime": {
     "end_time": "2019-07-25T08:17:53.697179Z",
     "start_time": "2019-07-25T08:17:53.686186Z"
    }
   },
   "outputs": [],
   "source": [
    "class Solution(object):\n",
    "    def canPartition(self, nums):\n",
    "        \"\"\"\n",
    "        动态规划，memo[i]记录的是这些数字能否组成i（True or False）\n",
    "        :type nums: List[int]\n",
    "        :rtype: bool\n",
    "        \"\"\"\n",
    "        if sum(nums) % 2 == 1:\n",
    "            return False\n",
    "\n",
    "        half_sum = int(sum(nums) / 2)\n",
    "        n = len(nums)\n",
    "        memo = [False] * (half_sum + 1)\n",
    "\n",
    "        # 初始化,memo[0] = True是必然的，因为我们只要取空子集，那么其sum一定为0\n",
    "        memo[0] = True\n",
    "        # 每遍历一个数就更新一遍memo\n",
    "        # memo要从后往前遍历，因为如果i<num,前面就不需要改了\n",
    "        for num in nums:\n",
    "            for i in range(half_sum, num - 1, -1):\n",
    "                # memo[i]表示不取这个数，memo[i-num]表示取这个数\n",
    "                memo[i] = memo[i] or memo[i - num]\n",
    "        return memo[half_sum]"
   ]
  },
  {
   "cell_type": "code",
   "execution_count": 19,
   "metadata": {
    "ExecuteTime": {
     "end_time": "2019-07-25T08:20:00.997787Z",
     "start_time": "2019-07-25T08:20:00.989791Z"
    }
   },
   "outputs": [
    {
     "name": "stdout",
     "output_type": "stream",
     "text": [
      "True\n",
      "False\n"
     ]
    }
   ],
   "source": [
    "nums1 =[1, 5, 11, 5]\n",
    "nums2 = [1, 2, 3, 5]\n",
    "s = Solution()\n",
    "result1 = s.canPartition(nums1)\n",
    "print(result1)\n",
    "result2 = s.canPartition(nums2)\n",
    "print(result2)"
   ]
  },
  {
   "cell_type": "markdown",
   "metadata": {},
   "source": [
    "## 最佳买卖股票时机含冷冻期-股票交易（309）"
   ]
  },
  {
   "cell_type": "markdown",
   "metadata": {},
   "source": [
    "给定一个整数数组，其中第 i 个元素代表了第 i 天的股票价格 。  \n",
    "\n",
    "设计一个算法计算出最大利润。在满足以下约束条件下，你可以尽可能地完成更多的交易（多次买卖一支股票）:  \n",
    "你不能同时参与多笔交易（你必须在再次购买前出售掉之前的股票）。  \n",
    "卖出股票后，你无法在第二天买入股票 (即冷冻期为 1 天)。  \n",
    "示例:  \n",
    "输入: [1,2,3,0,2]  \n",
    "输出: 3   \n",
    "解释: 对应的交易状态为: [买入, 卖出, 冷冻期, 买入, 卖出]  "
   ]
  },
  {
   "cell_type": "markdown",
   "metadata": {},
   "source": [
    "sell[i]表示截至第i天，最后一个操作是卖时的最大收益；  \n",
    "buy[i]表示截至第i天，最后一个操作是买时的最大收益；  \n",
    "cool[i]表示截至第i天，最后一个操作是冷冻期时的最大收益；  \n",
    "递推公式：  \n",
    "sell[i] = max(buy[i-1]+prices[i], sell[i-1]) (第一项表示第i天卖出，第二项表示第i天冷冻)  \n",
    "buy[i] = max(cool[i-1]-prices[i], buy[i-1]) （第一项表示第i天买进，第二项表示第i天冷冻）  \n",
    "cool[i] = max(sell[i-1], buy[i-1], cool[i-1])  "
   ]
  },
  {
   "cell_type": "code",
   "execution_count": 20,
   "metadata": {
    "ExecuteTime": {
     "end_time": "2019-07-25T08:22:41.928788Z",
     "start_time": "2019-07-25T08:22:41.916801Z"
    }
   },
   "outputs": [],
   "source": [
    "class Solution(object):\n",
    "    def maxProfit(self, prices):\n",
    "        n = len(prices)\n",
    "        if n == 0:\n",
    "            return 0     \n",
    "        sell = [0 for _ in range(n)]\n",
    "        buy = [0 for _ in range(n)]\n",
    "        cool = [0 for _ in range(n)]\n",
    "        buy[0] = -prices[0]\n",
    "        for i in range(1,n):\n",
    "            sell[i] = max(buy[i-1] + prices[i], sell[i-1])\n",
    "            buy[i] = max(cool[i-1] - prices[i], buy[i-1])\n",
    "            cool[i] = max(sell[i-1], buy[i-1],cool[i-1])\n",
    "        return sell[-1]"
   ]
  },
  {
   "cell_type": "code",
   "execution_count": 22,
   "metadata": {
    "ExecuteTime": {
     "end_time": "2019-07-25T08:23:51.718580Z",
     "start_time": "2019-07-25T08:23:51.711582Z"
    }
   },
   "outputs": [
    {
     "name": "stdout",
     "output_type": "stream",
     "text": [
      "3\n"
     ]
    }
   ],
   "source": [
    "s = Solution()\n",
    "prices =  [1,2,3,0,2]\n",
    "result = s.maxProfit(prices)\n",
    "print(result)"
   ]
  },
  {
   "cell_type": "markdown",
   "metadata": {},
   "source": [
    "##  两个字符串的删除操作-字符串编辑（583）"
   ]
  },
  {
   "cell_type": "markdown",
   "metadata": {},
   "source": [
    "给定两个单词 word1 和 word2，找到使得 word1 和 word2 相同所需的最小步数，每步可以删除任意一个字符串中的一个字符。  \n",
    "示例 1:  \n",
    "输入: \"sea\", \"eat\"  \n",
    "输出: 2  \n",
    "解释: 第一步将\"sea\"变为\"ea\"，第二步将\"eat\"变为\"ea\" \n",
    "说明:  \n",
    "给定单词的长度不超过500。  \n",
    "给定单词中的字符只含有小写字母。"
   ]
  },
  {
   "cell_type": "code",
   "execution_count": 23,
   "metadata": {
    "ExecuteTime": {
     "end_time": "2019-07-25T08:29:28.375050Z",
     "start_time": "2019-07-25T08:29:28.361060Z"
    }
   },
   "outputs": [],
   "source": [
    "class Solution(object):\n",
    "    def minDistance(self, word1, word2):\n",
    "        \"\"\"\n",
    "        :type word1: str\n",
    "        :type word2: str\n",
    "        :rtype: int\n",
    "        \"\"\"\n",
    "        # 相当于找word1,word2的最长公共子序列\n",
    "        dp = [[0 for _ in range(len(word1) + 1)]\n",
    "              for _ in range(len(word2) + 1)]\n",
    "        for i in range(1, len(word2) + 1):\n",
    "            for j in range(1, len(word1) + 1):\n",
    "                if word2[i - 1] == word1[j - 1]:\n",
    "                    dp[i][j] = dp[i - 1][j - 1] + 1\n",
    "                else:\n",
    "                    dp[i][j] = max(dp[i - 1][j], dp[i][j - 1])\n",
    "        return len(word1) + len(word2) - 2 * dp[-1][-1]"
   ]
  },
  {
   "cell_type": "code",
   "execution_count": null,
   "metadata": {},
   "outputs": [],
   "source": []
  }
 ],
 "metadata": {
  "hide_input": false,
  "kernelspec": {
   "display_name": "Python 3",
   "language": "python",
   "name": "python3"
  },
  "language_info": {
   "codemirror_mode": {
    "name": "ipython",
    "version": 3
   },
   "file_extension": ".py",
   "mimetype": "text/x-python",
   "name": "python",
   "nbconvert_exporter": "python",
   "pygments_lexer": "ipython3",
   "version": "3.7.3"
  },
  "latex_envs": {
   "LaTeX_envs_menu_present": true,
   "autoclose": false,
   "autocomplete": true,
   "bibliofile": "biblio.bib",
   "cite_by": "apalike",
   "current_citInitial": 1,
   "eqLabelWithNumbers": true,
   "eqNumInitial": 1,
   "hotkeys": {
    "equation": "Ctrl-E",
    "itemize": "Ctrl-I"
   },
   "labels_anchors": false,
   "latex_user_defs": false,
   "report_style_numbering": false,
   "user_envs_cfg": false
  },
  "nbTranslate": {
   "displayLangs": [
    "*"
   ],
   "hotkey": "alt-t",
   "langInMainMenu": true,
   "sourceLang": "en",
   "targetLang": "fr",
   "useGoogleTranslate": true
  },
  "toc": {
   "base_numbering": 1,
   "nav_menu": {},
   "number_sections": true,
   "sideBar": true,
   "skip_h1_title": false,
   "title_cell": "Table of Contents",
   "title_sidebar": "Contents",
   "toc_cell": false,
   "toc_position": {},
   "toc_section_display": true,
   "toc_window_display": false
  },
  "varInspector": {
   "cols": {
    "lenName": 16,
    "lenType": 16,
    "lenVar": 40
   },
   "kernels_config": {
    "python": {
     "delete_cmd_postfix": "",
     "delete_cmd_prefix": "del ",
     "library": "var_list.py",
     "varRefreshCmd": "print(var_dic_list())"
    },
    "r": {
     "delete_cmd_postfix": ") ",
     "delete_cmd_prefix": "rm(",
     "library": "var_list.r",
     "varRefreshCmd": "cat(var_dic_list()) "
    }
   },
   "types_to_exclude": [
    "module",
    "function",
    "builtin_function_or_method",
    "instance",
    "_Feature"
   ],
   "window_display": false
  }
 },
 "nbformat": 4,
 "nbformat_minor": 2
}
