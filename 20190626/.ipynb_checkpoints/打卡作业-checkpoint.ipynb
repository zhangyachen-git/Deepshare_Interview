{
 "cells": [
  {
   "cell_type": "markdown",
   "metadata": {},
   "source": [
    "# 题目"
   ]
  },
  {
   "cell_type": "markdown",
   "metadata": {},
   "source": [
    "## 167. 两数之和 II - 输入有序数组"
   ]
  },
  {
   "cell_type": "markdown",
   "metadata": {},
   "source": [
    "给定一个已按照升序排列 的有序数组，找到两个数使得它们相加之和等于目标数。  \n",
    "函数应该返回这两个下标值 index1 和 index2，其中 index1 必须小于 index2。\n",
    "\n",
    "说明:\n",
    "\n",
    "返回的下标值（index1 和 index2）不是从零开始的。  \n",
    "你可以假设每个输入只对应唯一的答案，而且你不可以重复使用相同的元素。\n",
    "示例:\n",
    "\n",
    "输入: numbers = [2, 7, 11, 15], target = 9  \n",
    "输出: [1,2]  \n",
    "解释: 2 与 7 之和等于目标数 9 。因此 index1 = 1, index2 = 2 。"
   ]
  },
  {
   "cell_type": "code",
   "execution_count": 1,
   "metadata": {
    "ExecuteTime": {
     "end_time": "2019-06-25T23:58:27.468437Z",
     "start_time": "2019-06-25T23:58:27.452447Z"
    }
   },
   "outputs": [
    {
     "name": "stdout",
     "output_type": "stream",
     "text": [
      "[1, 2]\n"
     ]
    }
   ],
   "source": [
    "class Solution:\n",
    "    def twoSum(self, numbers, target):\n",
    "        left = 0\n",
    "        right = len(numbers)-1\n",
    "        while left < right:\n",
    "            if numbers[left]+numbers[right] == target:\n",
    "                return[left+1, right+1]\n",
    "            elif numbers[left]+numbers[right] < target:\n",
    "                left += 1\n",
    "            else:\n",
    "                right -= 1\n",
    "\n",
    "\n",
    "numbers = [2, 7, 11, 15]\n",
    "target = 9\n",
    "s = Solution()\n",
    "result = s.twoSum(numbers, target)\n",
    "print(result)"
   ]
  },
  {
   "cell_type": "markdown",
   "metadata": {},
   "source": [
    "## 215. 数组中的第K个最大元素"
   ]
  },
  {
   "cell_type": "markdown",
   "metadata": {},
   "source": [
    "在未排序的数组中找到第 k 个最大的元素。请注意，你需要找的是数组排序后的第 k 个最大的元素，而不是第 k 个不同的元素。\n",
    "\n",
    "示例 1:  \n",
    "输入: [3,2,1,5,6,4] 和 k = 2  \n",
    "输出: 5  \n",
    "\n",
    "示例 2:  \n",
    "输入: [3,2,3,1,2,4,5,5,6] 和 k = 4  \n",
    "输出: 4  \n",
    "\n",
    "说明:\n",
    "你可以假设 k 总是有效的，且 1 ≤ k ≤ 数组的长度。"
   ]
  },
  {
   "cell_type": "code",
   "execution_count": 2,
   "metadata": {
    "ExecuteTime": {
     "end_time": "2019-06-25T23:58:27.720283Z",
     "start_time": "2019-06-25T23:58:27.710288Z"
    }
   },
   "outputs": [
    {
     "name": "stdout",
     "output_type": "stream",
     "text": [
      "5\n",
      "4\n"
     ]
    }
   ],
   "source": [
    "class Solution:\n",
    "    def findKthLargest(self, nums, k):\n",
    "        result = sorted(nums)[-k]\n",
    "        return result\n",
    "\n",
    "\n",
    "s = Solution()\n",
    "nums1 = [3, 2, 1, 5, 6, 4]\n",
    "k1 = 2\n",
    "result1 = s.findKthLargest(nums1, k1)\n",
    "print(result1)\n",
    "nums2 = [3, 2, 3, 1, 2, 4, 5, 5, 6]\n",
    "k2 = 4\n",
    "result2 = s.findKthLargest(nums2, k2)\n",
    "print(result2)"
   ]
  },
  {
   "cell_type": "markdown",
   "metadata": {},
   "source": [
    "## 347. 前K个高频元素"
   ]
  },
  {
   "cell_type": "markdown",
   "metadata": {},
   "source": [
    "给定一个非空的整数数组，返回其中出现频率前 k 高的元素。\n",
    "\n",
    "示例 1:  \n",
    "输入: nums = [1,1,1,2,2,3], k = 2  \n",
    "输出: [1,2]  \n",
    "\n",
    "示例 2:\n",
    "输入: nums = [1], k = 1  \n",
    "输出: [1]\n",
    "\n",
    "说明：\n",
    "\n",
    "你可以假设给定的 k 总是合理的，且 1 ≤ k ≤ 数组中不相同的元素的个数。  \n",
    "你的算法的时间复杂度必须优于 O(n log n) , n 是数组的大小\n",
    "\n"
   ]
  },
  {
   "cell_type": "code",
   "execution_count": 3,
   "metadata": {
    "ExecuteTime": {
     "end_time": "2019-06-25T23:58:27.940149Z",
     "start_time": "2019-06-25T23:58:27.924157Z"
    }
   },
   "outputs": [
    {
     "name": "stdout",
     "output_type": "stream",
     "text": [
      "[2, 1]\n",
      "[1]\n"
     ]
    }
   ],
   "source": [
    "class Solution:\n",
    "    def topKFrequent(self, nums, k):\n",
    "        d = {}\n",
    "        for n in nums:\n",
    "            d[n] = d.get(n, 0) + 1\n",
    "        return sorted(d.keys(), key=d.get)[-k:]\n",
    "\n",
    "\n",
    "s = Solution()\n",
    "nums1 = [1, 1, 1, 2, 2, 3]\n",
    "k1 = 2\n",
    "result1 = s.topKFrequent(nums1, k1)\n",
    "print(result1)\n",
    "nums2 = [1]\n",
    "k2 = 1\n",
    "result2 = s.topKFrequent(nums2, k2)\n",
    "print(result2)"
   ]
  },
  {
   "cell_type": "markdown",
   "metadata": {},
   "source": [
    "## 75. 颜色分类"
   ]
  },
  {
   "cell_type": "markdown",
   "metadata": {},
   "source": [
    "给定一个包含红色、白色和蓝色，一共 n 个元素的数组，原地对它们进行排序，使得相同颜色的元素相邻，并按照红色、白色、蓝色顺序排列。\n",
    "\n",
    "此题中，我们使用整数 0、 1 和 2 分别表示红色、白色和蓝色。\n",
    "\n",
    "注意:\n",
    "不能使用代码库中的排序函数来解决这道题。\n",
    "\n",
    "示例:\n",
    "输入: [2,0,2,1,1,0]  \n",
    "输出: [0,0,1,1,2,2]\n",
    "    \n",
    "进阶：\n",
    "一个直观的解决方案是使用计数排序的两趟扫描算法。  \n",
    "首先，迭代计算出0、1 和 2 元素的个数，然后按照0、1、2的排序，重写当前数组。  \n",
    "你能想出一个仅使用常数空间的一趟扫描算法吗？"
   ]
  },
  {
   "cell_type": "code",
   "execution_count": 4,
   "metadata": {
    "ExecuteTime": {
     "end_time": "2019-06-25T23:58:28.147020Z",
     "start_time": "2019-06-25T23:58:28.137028Z"
    }
   },
   "outputs": [
    {
     "name": "stdout",
     "output_type": "stream",
     "text": [
      "[0, 0, 1, 1, 2, 2]\n"
     ]
    }
   ],
   "source": [
    "class Solution:\n",
    "    def sortColors(self, nums):\n",
    "        \"\"\"\n",
    "         Do not return anything, modify nums in-place instead.\n",
    "         \"\"\"\n",
    "        left = 0\n",
    "        right = len(nums) - 1\n",
    "        i = 0\n",
    "        while i <= right:\n",
    "            while nums[i] == 2 and i < right:\n",
    "                nums[i], nums[right] = nums[right], nums[i]\n",
    "                right -= 1\n",
    "            while nums[i] == 0 and i > left:\n",
    "                nums[i], nums[left] = nums[left], nums[i]\n",
    "                left += 1\n",
    "            i += 1\n",
    "\n",
    "\n",
    "s = Solution()\n",
    "nums = [2, 0, 2, 1, 1, 0]\n",
    "s.sortColors(nums)\n",
    "print(nums)"
   ]
  },
  {
   "cell_type": "markdown",
   "metadata": {},
   "source": [
    "## 455. 分发饼干"
   ]
  },
  {
   "cell_type": "markdown",
   "metadata": {},
   "source": [
    "假设你是一位很棒的家长，想要给你的孩子们一些小饼干。但是，每个孩子最多只能给一块饼干。对每个孩子 i ，都有一个胃口值 gi ，这是能让孩子们满足胃口的饼干的最小尺寸；并且每块饼干 j ，都有一个尺寸 sj 。如果 sj >= gi ，我们可以将这个饼干 j 分配给孩子 i ，这个孩子会得到满足。你的目标是尽可能满足越多数量的孩子，并输出这个最大数值。\n",
    "\n",
    "注意：\n",
    "\n",
    "你可以假设胃口值为正。\n",
    "一个小朋友最多只能拥有一块饼干。\n",
    "\n",
    "示例 1:  \n",
    "输入: [1,2,3], [1,1]\n",
    "\n",
    "输出: 1\n",
    "\n",
    "解释: \n",
    "你有三个孩子和两块小饼干，3个孩子的胃口值分别是：1,2,3。  \n",
    "虽然你有两块小饼干，由于他们的尺寸都是1，你只能让胃口值是1的孩子满足。  \n",
    "所以你应该输出1。 "
   ]
  },
  {
   "cell_type": "code",
   "execution_count": 5,
   "metadata": {
    "ExecuteTime": {
     "end_time": "2019-06-25T23:58:28.353894Z",
     "start_time": "2019-06-25T23:58:28.343898Z"
    }
   },
   "outputs": [
    {
     "name": "stdout",
     "output_type": "stream",
     "text": [
      "1\n"
     ]
    }
   ],
   "source": [
    "class Solution:\n",
    "    def findContentChildren(self, g, s):\n",
    "        g.sort()\n",
    "        s.sort()\n",
    "\n",
    "        gi = 0  # 口味值\n",
    "        si = 0  # 尺寸值\n",
    "        res = 0\n",
    "\n",
    "        while gi < len(g) and si < len(s):\n",
    "            if s[si] >= g[gi]:\n",
    "                si += 1\n",
    "                gi += 1\n",
    "                res += 1\n",
    "            else:\n",
    "                si += 1\n",
    "        return res\n",
    "\n",
    "\n",
    "solution = Solution()\n",
    "g = [1, 2, 3]\n",
    "s = [1, 1]\n",
    "result = solution.findContentChildren(g, s)\n",
    "print(result)"
   ]
  },
  {
   "cell_type": "markdown",
   "metadata": {},
   "source": [
    "## sort 与 sorted 区别\n",
    "* sort 是应用在 list 上的方法，sorted 可以对所有可迭代的对象进行排序操作。  \n",
    "* list 的 sort 方法返回的是对已经存在的列表进行操作，无返回值，而内建函数 sorted 方法返回的是一个新的 list，而不是在原来的基础上进行的操作。"
   ]
  },
  {
   "cell_type": "markdown",
   "metadata": {},
   "source": [
    "### 冒泡排序\n",
    "冒泡排序（Bubble sort）：时间复杂度O(n^2)  \n",
    "交换排序的一种。其核心思想是：两两比较相邻记录的关键字，如果反序则交换，直到没有反序记录为止。"
   ]
  },
  {
   "cell_type": "code",
   "execution_count": 7,
   "metadata": {
    "ExecuteTime": {
     "end_time": "2019-06-26T00:16:46.725296Z",
     "start_time": "2019-06-26T00:16:46.693315Z"
    }
   },
   "outputs": [
    {
     "name": "stdout",
     "output_type": "stream",
     "text": [
      " 1 2 3 4 5 6 7 8 9\n"
     ]
    }
   ],
   "source": [
    "class SQList:\n",
    "    def __init__(self, lis=None):\n",
    "        self.r = lis\n",
    "\n",
    "    def swap(self, i, j):\n",
    "        \"\"\"定义一个交换元素的方法，方便后面调用。\"\"\"\n",
    "        temp = self.r[i]\n",
    "        self.r[i] = self.r[j]\n",
    "        self.r[j] = temp\n",
    "\n",
    "    def bubble_sort_simple(self):\n",
    "        \"\"\"\n",
    "        最简单的交换排序，时间复杂度O(n^2)\n",
    "        \"\"\"\n",
    "        lis = self.r\n",
    "        length = len(self.r)\n",
    "        for i in range(length):\n",
    "            for j in range(i+1, length):\n",
    "                if lis[i] > lis[j]:\n",
    "                    self.swap(i, j)\n",
    "\n",
    "    def bubble_sort(self):\n",
    "        \"\"\"\n",
    "        冒泡排序，时间复杂度O(n^2)\n",
    "        \"\"\"\n",
    "        lis = self.r\n",
    "        length = len(self.r)\n",
    "        for i in range(length):\n",
    "            j = length-2\n",
    "            while j >= i:\n",
    "                if lis[j] > lis[j+1]:\n",
    "                    self.swap(j, j+1)\n",
    "                j -= 1\n",
    "\n",
    "    def bubble_sort_advance(self):\n",
    "        \"\"\"\n",
    "        冒泡排序改进算法，时间复杂度O(n^2)\n",
    "        设置flag，当一轮比较中未发生交换动作，则说明后面的元素其实已经有序排列了。\n",
    "        对于比较规整的元素集合，可提高一定的排序效率。\n",
    "        \"\"\"\n",
    "        lis = self.r\n",
    "        length = len(self.r)\n",
    "        flag = True\n",
    "        i = 0\n",
    "        while i < length and flag:\n",
    "            flag = False\n",
    "            j = length - 2\n",
    "            while j >= i:\n",
    "                if lis[j] > lis[j + 1]:\n",
    "                    self.swap(j, j + 1)\n",
    "                    flag = True\n",
    "                j -= 1\n",
    "            i += 1\n",
    "\n",
    "    def __str__(self):\n",
    "        ret = \"\"\n",
    "        for i in self.r:\n",
    "            ret += \" %s\" % i\n",
    "        return ret\n",
    "\n",
    "if __name__ == '__main__':\n",
    "    sqlist = SQList([4,1,7,3,8,5,9,2,6])\n",
    "    # sqlist.bubble_sort_simple()\n",
    "    # sqlist.bubble_sort()\n",
    "    sqlist.bubble_sort_advance()\n",
    "    print(sqlist)"
   ]
  },
  {
   "cell_type": "markdown",
   "metadata": {},
   "source": [
    "### 简单选择排序\n",
    "简单选择排序（simple selection sort）:时间复杂度O(n^2)  \n",
    "通过n-i次关键字之间的比较，从n-i+1个记录中选出关键字最小的记录，并和第i（1<=i<=n)个记录进行交换。"
   ]
  },
  {
   "cell_type": "code",
   "execution_count": 8,
   "metadata": {
    "ExecuteTime": {
     "end_time": "2019-06-26T00:18:29.610748Z",
     "start_time": "2019-06-26T00:18:29.595758Z"
    }
   },
   "outputs": [
    {
     "name": "stdout",
     "output_type": "stream",
     "text": [
      " 0 1 2 3 4 5 6 7 8 9\n"
     ]
    }
   ],
   "source": [
    "class SQList:\n",
    "    def __init__(self, lis=None):\n",
    "        self.r = lis\n",
    "\n",
    "    def swap(self, i, j):\n",
    "        \"\"\"定义一个交换元素的方法，方便后面调用。\"\"\"\n",
    "        temp = self.r[i]\n",
    "        self.r[i] = self.r[j]\n",
    "        self.r[j] = temp\n",
    "\n",
    "    def select_sort(self):\n",
    "        \"\"\"\n",
    "        简单选择排序，时间复杂度O(n^2)\n",
    "        \"\"\"\n",
    "        lis = self.r\n",
    "        length = len(self.r)\n",
    "        for i in range(length):\n",
    "            minimum = i\n",
    "            for j in range(i+1, length):\n",
    "                if lis[minimum] > lis[j]:\n",
    "                    minimum = j\n",
    "            if i != minimum:\n",
    "                self.swap(i, minimum)\n",
    "\n",
    "    def __str__(self):\n",
    "        ret = \"\"\n",
    "        for i in self.r:\n",
    "            ret += \" %s\" % i\n",
    "        return ret\n",
    "\n",
    "\n",
    "if __name__ == '__main__':\n",
    "    sqlist = SQList([4, 1, 7, 3, 8, 5, 9, 2, 6, 0])\n",
    "    sqlist.select_sort()\n",
    "    print(sqlist)"
   ]
  },
  {
   "cell_type": "markdown",
   "metadata": {},
   "source": [
    "### 直接插入排序\n",
    "直接插入排序（Straight Insertion Sort）:时间复杂度O(n^2)  \n",
    "基本操作是将一个记录插入到已经排好序的有序表中，从而得到一个新的、记录数增1的有序表。"
   ]
  },
  {
   "cell_type": "code",
   "execution_count": 9,
   "metadata": {
    "ExecuteTime": {
     "end_time": "2019-06-26T00:19:01.464157Z",
     "start_time": "2019-06-26T00:19:01.449167Z"
    }
   },
   "outputs": [
    {
     "name": "stdout",
     "output_type": "stream",
     "text": [
      " 0 1 2 3 4 5 6 7 8 9\n"
     ]
    }
   ],
   "source": [
    "class SQList:\n",
    "    def __init__(self, lis=None):\n",
    "        self.r = lis\n",
    "\n",
    "    def insert_sort(self):\n",
    "        lis = self.r\n",
    "        length = len(self.r)\n",
    "        # 下标从1开始\n",
    "        for i in range(1, length):\n",
    "            if lis[i] < lis[i-1]:\n",
    "                temp = lis[i]\n",
    "                j = i-1\n",
    "                while lis[j] > temp and j >= 0:\n",
    "                    lis[j+1] = lis[j]\n",
    "                    j -= 1\n",
    "                lis[j+1] = temp\n",
    "\n",
    "    def __str__(self):\n",
    "        ret = \"\"\n",
    "        for i in self.r:\n",
    "            ret += \" %s\" % i\n",
    "        return ret\n",
    "\n",
    "\n",
    "if __name__ == '__main__':\n",
    "    sqlist = SQList([4, 1, 7, 3, 8, 5, 9, 2, 6, 0])\n",
    "    sqlist.insert_sort()\n",
    "    print(sqlist)"
   ]
  },
  {
   "cell_type": "markdown",
   "metadata": {},
   "source": [
    "### 希尔排序\n",
    "希尔排序（Shell Sort）是插入排序的改进版本，其核心思想是将原数据集合分割成若干个子序列，然后再对子序列分别进行直接插入排序，使子序列基本有序，最后再对全体记录进行一次直接插入排序。"
   ]
  },
  {
   "cell_type": "code",
   "execution_count": 10,
   "metadata": {
    "ExecuteTime": {
     "end_time": "2019-06-26T00:19:36.684766Z",
     "start_time": "2019-06-26T00:19:36.667776Z"
    }
   },
   "outputs": [
    {
     "name": "stdout",
     "output_type": "stream",
     "text": [
      " 0 1 2 3 4 5 6 7 8 9 22 123\n"
     ]
    }
   ],
   "source": [
    "class SQList:\n",
    "    def __init__(self, lis=None):\n",
    "        self.r = lis\n",
    "\n",
    "    def shell_sort(self):\n",
    "        \"\"\"希尔排序\"\"\"\n",
    "        lis = self.r\n",
    "        length = len(lis)\n",
    "        increment = len(lis)\n",
    "        while increment > 1:\n",
    "            increment = int(increment/3)+1\n",
    "            for i in range(increment+1, length):\n",
    "                if lis[i] < lis[i - increment]:\n",
    "                    temp = lis[i]\n",
    "                    j = i - increment\n",
    "                    while j >= 0 and temp < lis[j]:\n",
    "                        lis[j+increment] = lis[j]\n",
    "                        j -= increment\n",
    "                    lis[j+increment] = temp\n",
    "\n",
    "    def __str__(self):\n",
    "        ret = \"\"\n",
    "        for i in self.r:\n",
    "            ret += \" %s\" % i\n",
    "        return ret\n",
    "\n",
    "\n",
    "if __name__ == '__main__':\n",
    "    sqlist = SQList([4, 1, 7, 3, 8, 5, 9, 2, 6, 0, 123, 22])\n",
    "    sqlist.shell_sort()\n",
    "    print(sqlist)"
   ]
  },
  {
   "cell_type": "markdown",
   "metadata": {},
   "source": [
    "### 堆排序\n",
    "堆是具有下列性质的完全二叉树：  \n",
    "每个分支节点的值都大于或等于其左右孩子的值，称为大顶堆；  \n",
    "每个分支节点的值都小于或等于其做右孩子的值，称为小顶堆；  \n",
    "因此，其根节点一定是所有节点中最大（最小）的值。\n",
    "\n",
    "堆排序（Heap Sort）就是利用大顶堆或小顶堆的性质进行排序的方法。堆排序的总体时间复杂度为O(nlogn)。"
   ]
  },
  {
   "cell_type": "code",
   "execution_count": 11,
   "metadata": {
    "ExecuteTime": {
     "end_time": "2019-06-26T00:20:37.613154Z",
     "start_time": "2019-06-26T00:20:37.588171Z"
    }
   },
   "outputs": [
    {
     "name": "stdout",
     "output_type": "stream",
     "text": [
      " 0 1 2 3 4 5 6 7 8 9 22 123\n"
     ]
    }
   ],
   "source": [
    "class SQList:\n",
    "    def __init__(self, lis=None):\n",
    "        self.r = lis\n",
    "\n",
    "    def swap(self, i, j):\n",
    "        \"\"\"定义一个交换元素的方法，方便后面调用。\"\"\"\n",
    "        temp = self.r[i]\n",
    "        self.r[i] = self.r[j]\n",
    "        self.r[j] = temp\n",
    "\n",
    "    def heap_sort(self):\n",
    "        length = len(self.r)\n",
    "        i = int(length/2)\n",
    "        # 将原始序列构造成一个大顶堆\n",
    "        # 遍历从中间开始，到0结束，其实这些是堆的分支节点。\n",
    "        while i >= 0:\n",
    "            self.heap_adjust(i, length-1)\n",
    "            i -= 1\n",
    "        # 逆序遍历整个序列，不断取出根节点的值，完成实际的排序。\n",
    "        j = length-1\n",
    "        while j > 0:\n",
    "            # 将当前根节点，也就是列表最开头，下标为0的值，交换到最后面j处\n",
    "            self.swap(0, j)\n",
    "            # 将发生变化的序列重新构造成大顶堆\n",
    "            self.heap_adjust(0, j-1)\n",
    "            j -= 1\n",
    "\n",
    "    def heap_adjust(self, s, m):\n",
    "        \"\"\"核心的大顶堆构造方法，维持序列的堆结构。\"\"\"\n",
    "        lis = self.r\n",
    "        temp = lis[s]\n",
    "        i = 2*s\n",
    "        while i <= m:\n",
    "            if i < m and lis[i] < lis[i+1]:\n",
    "                i += 1\n",
    "            if temp >= lis[i]:\n",
    "                break\n",
    "            lis[s] = lis[i]\n",
    "            s = i\n",
    "            i *= 2\n",
    "        lis[s] = temp\n",
    "\n",
    "    def __str__(self):\n",
    "        ret = \"\"\n",
    "        for i in self.r:\n",
    "            ret += \" %s\" % i\n",
    "        return ret\n",
    "\n",
    "\n",
    "if __name__ == '__main__':\n",
    "    sqlist = SQList([4, 1, 7, 3, 8, 5, 9, 2, 6, 0, 123, 22])\n",
    "    sqlist.heap_sort()\n",
    "    print(sqlist)"
   ]
  },
  {
   "cell_type": "code",
   "execution_count": null,
   "metadata": {},
   "outputs": [],
   "source": []
  }
 ],
 "metadata": {
  "kernelspec": {
   "display_name": "Python 3",
   "language": "python",
   "name": "python3"
  },
  "language_info": {
   "codemirror_mode": {
    "name": "ipython",
    "version": 3
   },
   "file_extension": ".py",
   "mimetype": "text/x-python",
   "name": "python",
   "nbconvert_exporter": "python",
   "pygments_lexer": "ipython3",
   "version": "3.7.3"
  },
  "latex_envs": {
   "LaTeX_envs_menu_present": true,
   "autoclose": false,
   "autocomplete": true,
   "bibliofile": "biblio.bib",
   "cite_by": "apalike",
   "current_citInitial": 1,
   "eqLabelWithNumbers": true,
   "eqNumInitial": 1,
   "hotkeys": {
    "equation": "Ctrl-E",
    "itemize": "Ctrl-I"
   },
   "labels_anchors": false,
   "latex_user_defs": false,
   "report_style_numbering": false,
   "user_envs_cfg": false
  },
  "toc": {
   "base_numbering": 1,
   "nav_menu": {},
   "number_sections": true,
   "sideBar": true,
   "skip_h1_title": false,
   "title_cell": "Table of Contents",
   "title_sidebar": "Contents",
   "toc_cell": false,
   "toc_position": {},
   "toc_section_display": true,
   "toc_window_display": false
  }
 },
 "nbformat": 4,
 "nbformat_minor": 2
}
